{
 "cells": [
  {
   "cell_type": "markdown",
   "metadata": {},
   "source": [
    "## Word2Vec"
   ]
  },
  {
   "cell_type": "code",
   "execution_count": 72,
   "metadata": {},
   "outputs": [],
   "source": [
    "import gensim \n",
    "import logging\n",
    "logging.basicConfig(format='%(asctime)s : %(levelname)s : %(message)s', level=logging.INFO)\n",
    "\n",
    "def read_input(input_file):\n",
    "    logging.info(\"reading file {0}...this may take a while\".format(input_file))\n",
    "    \n",
    "    with open(input_file,'rb') as f:\n",
    "        for i, line in enumerate(f):\n",
    "            if (i%10000==0):\n",
    "                logging.info(f\"read{i} reviews\")\n",
    "                \n",
    "            yield gensim.utils.simple_preprocess(line)\n"
   ]
  },
  {
   "cell_type": "code",
   "execution_count": 74,
   "metadata": {},
   "outputs": [
    {
     "name": "stderr",
     "output_type": "stream",
     "text": [
      "2019-05-11 10:47:29,768 : INFO : reading file E:\\Projects\\word2vec\\raw_text.txt...this may take a while\n",
      "2019-05-11 10:47:29,768 : INFO : read0 reviews\n",
      "2019-05-11 10:47:29,909 : INFO : read10000 reviews\n",
      "2019-05-11 10:47:30,045 : INFO : read20000 reviews\n",
      "2019-05-11 10:47:30,184 : INFO : read30000 reviews\n",
      "2019-05-11 10:47:30,346 : INFO : read40000 reviews\n",
      "2019-05-11 10:47:30,510 : INFO : read50000 reviews\n",
      "2019-05-11 10:47:30,768 : INFO : read60000 reviews\n",
      "2019-05-11 10:47:30,949 : INFO : read70000 reviews\n",
      "2019-05-11 10:47:31,078 : INFO : read80000 reviews\n",
      "2019-05-11 10:47:31,206 : INFO : read90000 reviews\n",
      "2019-05-11 10:47:31,342 : INFO : read100000 reviews\n",
      "2019-05-11 10:47:31,519 : INFO : read110000 reviews\n",
      "2019-05-11 10:47:31,643 : INFO : Done reading data file\n"
     ]
    }
   ],
   "source": [
    "data_file=\"E:\\\\Projects\\\\word2vec\\\\raw_text.txt\"\n",
    "\n",
    "documents=list(read_input(data_file))\n",
    "\n",
    "logging.info(\"Done reading data file\")"
   ]
  },
  {
   "cell_type": "code",
   "execution_count": 76,
   "metadata": {},
   "outputs": [
    {
     "name": "stderr",
     "output_type": "stream",
     "text": [
      "2019-05-11 10:47:31,654 : WARNING : consider setting layer size to a multiple of 4 for greater performance\n",
      "2019-05-11 10:47:31,655 : INFO : collecting all words and their counts\n",
      "2019-05-11 10:47:31,655 : INFO : PROGRESS: at sentence #0, processed 0 words, keeping 0 word types\n",
      "2019-05-11 10:47:31,671 : INFO : PROGRESS: at sentence #10000, processed 91680 words, keeping 6525 word types\n",
      "2019-05-11 10:47:31,687 : INFO : PROGRESS: at sentence #20000, processed 178979 words, keeping 9503 word types\n",
      "2019-05-11 10:47:31,703 : INFO : PROGRESS: at sentence #30000, processed 267961 words, keeping 11315 word types\n",
      "2019-05-11 10:47:31,723 : INFO : PROGRESS: at sentence #40000, processed 374081 words, keeping 13599 word types\n",
      "2019-05-11 10:47:31,743 : INFO : PROGRESS: at sentence #50000, processed 481985 words, keeping 15568 word types\n",
      "2019-05-11 10:47:31,762 : INFO : PROGRESS: at sentence #60000, processed 586242 words, keeping 17862 word types\n",
      "2019-05-11 10:47:31,783 : INFO : PROGRESS: at sentence #70000, processed 692698 words, keeping 19436 word types\n",
      "2019-05-11 10:47:31,798 : INFO : PROGRESS: at sentence #80000, processed 770258 words, keeping 20503 word types\n",
      "2019-05-11 10:47:31,814 : INFO : PROGRESS: at sentence #90000, processed 847326 words, keeping 21643 word types\n",
      "2019-05-11 10:47:31,831 : INFO : PROGRESS: at sentence #100000, processed 928826 words, keeping 22887 word types\n",
      "2019-05-11 10:47:31,852 : INFO : PROGRESS: at sentence #110000, processed 1039999 words, keeping 23952 word types\n",
      "2019-05-11 10:47:31,866 : INFO : collected 24510 word types from a corpus of 1106648 raw words and 116155 sentences\n",
      "2019-05-11 10:47:31,867 : INFO : Loading a fresh vocabulary\n",
      "2019-05-11 10:47:31,896 : INFO : min_count=2 retains 15865 unique words (64% of original 24510, drops 8645)\n",
      "2019-05-11 10:47:31,896 : INFO : min_count=2 leaves 1098003 word corpus (99% of original 1106648, drops 8645)\n",
      "2019-05-11 10:47:31,944 : INFO : deleting the raw counts dictionary of 24510 items\n",
      "2019-05-11 10:47:31,945 : INFO : sample=0.001 downsamples 48 most-common words\n",
      "2019-05-11 10:47:31,945 : INFO : downsampling leaves estimated 842894 word corpus (76.8% of prior 1098003)\n",
      "2019-05-11 10:47:31,983 : INFO : estimated required memory for 15865 words and 150 dimensions: 26970500 bytes\n",
      "2019-05-11 10:47:31,983 : INFO : resetting layer weights\n",
      "2019-05-11 10:47:32,152 : INFO : training model with 10 workers on 15865 vocabulary and 150 features, using sg=0 hs=0 sample=0.001 negative=5 window=10\n",
      "2019-05-11 10:47:32,694 : INFO : worker thread finished; awaiting finish of 9 more threads\n",
      "2019-05-11 10:47:32,704 : INFO : worker thread finished; awaiting finish of 8 more threads\n",
      "2019-05-11 10:47:32,706 : INFO : worker thread finished; awaiting finish of 7 more threads\n",
      "2019-05-11 10:47:32,707 : INFO : worker thread finished; awaiting finish of 6 more threads\n",
      "2019-05-11 10:47:32,710 : INFO : worker thread finished; awaiting finish of 5 more threads\n",
      "2019-05-11 10:47:32,715 : INFO : worker thread finished; awaiting finish of 4 more threads\n",
      "2019-05-11 10:47:32,718 : INFO : worker thread finished; awaiting finish of 3 more threads\n",
      "2019-05-11 10:47:32,719 : INFO : worker thread finished; awaiting finish of 2 more threads\n",
      "2019-05-11 10:47:32,721 : INFO : worker thread finished; awaiting finish of 1 more threads\n",
      "2019-05-11 10:47:32,725 : INFO : worker thread finished; awaiting finish of 0 more threads\n",
      "2019-05-11 10:47:32,726 : INFO : EPOCH - 1 : training on 1106648 raw words (843092 effective words) took 0.6s, 1494548 effective words/s\n",
      "2019-05-11 10:47:33,265 : INFO : worker thread finished; awaiting finish of 9 more threads\n",
      "2019-05-11 10:47:33,273 : INFO : worker thread finished; awaiting finish of 8 more threads\n",
      "2019-05-11 10:47:33,273 : INFO : worker thread finished; awaiting finish of 7 more threads\n",
      "2019-05-11 10:47:33,274 : INFO : worker thread finished; awaiting finish of 6 more threads\n",
      "2019-05-11 10:47:33,274 : INFO : worker thread finished; awaiting finish of 5 more threads\n",
      "2019-05-11 10:47:33,276 : INFO : worker thread finished; awaiting finish of 4 more threads\n",
      "2019-05-11 10:47:33,285 : INFO : worker thread finished; awaiting finish of 3 more threads\n",
      "2019-05-11 10:47:33,286 : INFO : worker thread finished; awaiting finish of 2 more threads\n",
      "2019-05-11 10:47:33,288 : INFO : worker thread finished; awaiting finish of 1 more threads\n",
      "2019-05-11 10:47:33,291 : INFO : worker thread finished; awaiting finish of 0 more threads\n",
      "2019-05-11 10:47:33,291 : INFO : EPOCH - 2 : training on 1106648 raw words (842367 effective words) took 0.6s, 1519154 effective words/s\n",
      "2019-05-11 10:47:33,822 : INFO : worker thread finished; awaiting finish of 9 more threads\n",
      "2019-05-11 10:47:33,829 : INFO : worker thread finished; awaiting finish of 8 more threads\n",
      "2019-05-11 10:47:33,829 : INFO : worker thread finished; awaiting finish of 7 more threads\n",
      "2019-05-11 10:47:33,831 : INFO : worker thread finished; awaiting finish of 6 more threads\n",
      "2019-05-11 10:47:33,832 : INFO : worker thread finished; awaiting finish of 5 more threads\n",
      "2019-05-11 10:47:33,833 : INFO : worker thread finished; awaiting finish of 4 more threads\n",
      "2019-05-11 10:47:33,842 : INFO : worker thread finished; awaiting finish of 3 more threads\n",
      "2019-05-11 10:47:33,843 : INFO : worker thread finished; awaiting finish of 2 more threads\n",
      "2019-05-11 10:47:33,844 : INFO : worker thread finished; awaiting finish of 1 more threads\n",
      "2019-05-11 10:47:33,845 : INFO : worker thread finished; awaiting finish of 0 more threads\n",
      "2019-05-11 10:47:33,845 : INFO : EPOCH - 3 : training on 1106648 raw words (843151 effective words) took 0.5s, 1550953 effective words/s\n",
      "2019-05-11 10:47:34,421 : INFO : worker thread finished; awaiting finish of 9 more threads\n",
      "2019-05-11 10:47:34,422 : INFO : worker thread finished; awaiting finish of 8 more threads\n",
      "2019-05-11 10:47:34,426 : INFO : worker thread finished; awaiting finish of 7 more threads\n",
      "2019-05-11 10:47:34,433 : INFO : worker thread finished; awaiting finish of 6 more threads\n",
      "2019-05-11 10:47:34,435 : INFO : worker thread finished; awaiting finish of 5 more threads\n",
      "2019-05-11 10:47:34,439 : INFO : worker thread finished; awaiting finish of 4 more threads\n",
      "2019-05-11 10:47:34,441 : INFO : worker thread finished; awaiting finish of 3 more threads\n",
      "2019-05-11 10:47:34,443 : INFO : worker thread finished; awaiting finish of 2 more threads\n",
      "2019-05-11 10:47:34,445 : INFO : worker thread finished; awaiting finish of 1 more threads\n",
      "2019-05-11 10:47:34,447 : INFO : worker thread finished; awaiting finish of 0 more threads\n",
      "2019-05-11 10:47:34,448 : INFO : EPOCH - 4 : training on 1106648 raw words (843067 effective words) took 0.6s, 1427341 effective words/s\n",
      "2019-05-11 10:47:34,999 : INFO : worker thread finished; awaiting finish of 9 more threads\n",
      "2019-05-11 10:47:35,010 : INFO : worker thread finished; awaiting finish of 8 more threads\n",
      "2019-05-11 10:47:35,011 : INFO : worker thread finished; awaiting finish of 7 more threads\n",
      "2019-05-11 10:47:35,012 : INFO : worker thread finished; awaiting finish of 6 more threads\n",
      "2019-05-11 10:47:35,012 : INFO : worker thread finished; awaiting finish of 5 more threads\n",
      "2019-05-11 10:47:35,018 : INFO : worker thread finished; awaiting finish of 4 more threads\n",
      "2019-05-11 10:47:35,021 : INFO : worker thread finished; awaiting finish of 3 more threads\n",
      "2019-05-11 10:47:35,023 : INFO : worker thread finished; awaiting finish of 2 more threads\n",
      "2019-05-11 10:47:35,026 : INFO : worker thread finished; awaiting finish of 1 more threads\n",
      "2019-05-11 10:47:35,029 : INFO : worker thread finished; awaiting finish of 0 more threads\n",
      "2019-05-11 10:47:35,030 : INFO : EPOCH - 5 : training on 1106648 raw words (842514 effective words) took 0.6s, 1474368 effective words/s\n",
      "2019-05-11 10:47:35,030 : INFO : training on a 5533240 raw words (4214191 effective words) took 2.9s, 1464482 effective words/s\n",
      "2019-05-11 10:47:35,031 : WARNING : Effective 'alpha' higher than previous training cycles\n",
      "2019-05-11 10:47:35,031 : INFO : training model with 10 workers on 15865 vocabulary and 150 features, using sg=0 hs=0 sample=0.001 negative=5 window=10\n",
      "2019-05-11 10:47:35,590 : INFO : worker thread finished; awaiting finish of 9 more threads\n",
      "2019-05-11 10:47:35,605 : INFO : worker thread finished; awaiting finish of 8 more threads\n"
     ]
    },
    {
     "name": "stderr",
     "output_type": "stream",
     "text": [
      "2019-05-11 10:47:35,607 : INFO : worker thread finished; awaiting finish of 7 more threads\n",
      "2019-05-11 10:47:35,608 : INFO : worker thread finished; awaiting finish of 6 more threads\n",
      "2019-05-11 10:47:35,612 : INFO : worker thread finished; awaiting finish of 5 more threads\n",
      "2019-05-11 10:47:35,614 : INFO : worker thread finished; awaiting finish of 4 more threads\n",
      "2019-05-11 10:47:35,615 : INFO : worker thread finished; awaiting finish of 3 more threads\n",
      "2019-05-11 10:47:35,620 : INFO : worker thread finished; awaiting finish of 2 more threads\n",
      "2019-05-11 10:47:35,621 : INFO : worker thread finished; awaiting finish of 1 more threads\n",
      "2019-05-11 10:47:35,622 : INFO : worker thread finished; awaiting finish of 0 more threads\n",
      "2019-05-11 10:47:35,623 : INFO : EPOCH - 1 : training on 1106648 raw words (842830 effective words) took 0.6s, 1449313 effective words/s\n",
      "2019-05-11 10:47:36,176 : INFO : worker thread finished; awaiting finish of 9 more threads\n",
      "2019-05-11 10:47:36,182 : INFO : worker thread finished; awaiting finish of 8 more threads\n",
      "2019-05-11 10:47:36,183 : INFO : worker thread finished; awaiting finish of 7 more threads\n",
      "2019-05-11 10:47:36,185 : INFO : worker thread finished; awaiting finish of 6 more threads\n",
      "2019-05-11 10:47:36,188 : INFO : worker thread finished; awaiting finish of 5 more threads\n",
      "2019-05-11 10:47:36,190 : INFO : worker thread finished; awaiting finish of 4 more threads\n",
      "2019-05-11 10:47:36,191 : INFO : worker thread finished; awaiting finish of 3 more threads\n",
      "2019-05-11 10:47:36,197 : INFO : worker thread finished; awaiting finish of 2 more threads\n",
      "2019-05-11 10:47:36,199 : INFO : worker thread finished; awaiting finish of 1 more threads\n",
      "2019-05-11 10:47:36,200 : INFO : worker thread finished; awaiting finish of 0 more threads\n",
      "2019-05-11 10:47:36,201 : INFO : EPOCH - 2 : training on 1106648 raw words (842671 effective words) took 0.6s, 1486267 effective words/s\n",
      "2019-05-11 10:47:36,726 : INFO : worker thread finished; awaiting finish of 9 more threads\n",
      "2019-05-11 10:47:36,737 : INFO : worker thread finished; awaiting finish of 8 more threads\n",
      "2019-05-11 10:47:36,740 : INFO : worker thread finished; awaiting finish of 7 more threads\n",
      "2019-05-11 10:47:36,742 : INFO : worker thread finished; awaiting finish of 6 more threads\n",
      "2019-05-11 10:47:36,743 : INFO : worker thread finished; awaiting finish of 5 more threads\n",
      "2019-05-11 10:47:36,756 : INFO : worker thread finished; awaiting finish of 4 more threads\n",
      "2019-05-11 10:47:36,758 : INFO : worker thread finished; awaiting finish of 3 more threads\n",
      "2019-05-11 10:47:36,762 : INFO : worker thread finished; awaiting finish of 2 more threads\n",
      "2019-05-11 10:47:36,769 : INFO : worker thread finished; awaiting finish of 1 more threads\n",
      "2019-05-11 10:47:36,770 : INFO : worker thread finished; awaiting finish of 0 more threads\n",
      "2019-05-11 10:47:36,770 : INFO : EPOCH - 3 : training on 1106648 raw words (842999 effective words) took 0.6s, 1506752 effective words/s\n",
      "2019-05-11 10:47:37,302 : INFO : worker thread finished; awaiting finish of 9 more threads\n",
      "2019-05-11 10:47:37,305 : INFO : worker thread finished; awaiting finish of 8 more threads\n",
      "2019-05-11 10:47:37,306 : INFO : worker thread finished; awaiting finish of 7 more threads\n",
      "2019-05-11 10:47:37,307 : INFO : worker thread finished; awaiting finish of 6 more threads\n",
      "2019-05-11 10:47:37,311 : INFO : worker thread finished; awaiting finish of 5 more threads\n",
      "2019-05-11 10:47:37,313 : INFO : worker thread finished; awaiting finish of 4 more threads\n",
      "2019-05-11 10:47:37,317 : INFO : worker thread finished; awaiting finish of 3 more threads\n",
      "2019-05-11 10:47:37,319 : INFO : worker thread finished; awaiting finish of 2 more threads\n",
      "2019-05-11 10:47:37,323 : INFO : worker thread finished; awaiting finish of 1 more threads\n",
      "2019-05-11 10:47:37,324 : INFO : worker thread finished; awaiting finish of 0 more threads\n",
      "2019-05-11 10:47:37,324 : INFO : EPOCH - 4 : training on 1106648 raw words (842994 effective words) took 0.5s, 1551926 effective words/s\n",
      "2019-05-11 10:47:37,858 : INFO : worker thread finished; awaiting finish of 9 more threads\n",
      "2019-05-11 10:47:37,865 : INFO : worker thread finished; awaiting finish of 8 more threads\n",
      "2019-05-11 10:47:37,866 : INFO : worker thread finished; awaiting finish of 7 more threads\n",
      "2019-05-11 10:47:37,866 : INFO : worker thread finished; awaiting finish of 6 more threads\n",
      "2019-05-11 10:47:37,869 : INFO : worker thread finished; awaiting finish of 5 more threads\n",
      "2019-05-11 10:47:37,870 : INFO : worker thread finished; awaiting finish of 4 more threads\n",
      "2019-05-11 10:47:37,877 : INFO : worker thread finished; awaiting finish of 3 more threads\n",
      "2019-05-11 10:47:37,881 : INFO : worker thread finished; awaiting finish of 2 more threads\n",
      "2019-05-11 10:47:37,883 : INFO : worker thread finished; awaiting finish of 1 more threads\n",
      "2019-05-11 10:47:37,885 : INFO : worker thread finished; awaiting finish of 0 more threads\n",
      "2019-05-11 10:47:37,885 : INFO : EPOCH - 5 : training on 1106648 raw words (842874 effective words) took 0.6s, 1530930 effective words/s\n",
      "2019-05-11 10:47:38,410 : INFO : worker thread finished; awaiting finish of 9 more threads\n",
      "2019-05-11 10:47:38,418 : INFO : worker thread finished; awaiting finish of 8 more threads\n",
      "2019-05-11 10:47:38,419 : INFO : worker thread finished; awaiting finish of 7 more threads\n",
      "2019-05-11 10:47:38,420 : INFO : worker thread finished; awaiting finish of 6 more threads\n",
      "2019-05-11 10:47:38,420 : INFO : worker thread finished; awaiting finish of 5 more threads\n",
      "2019-05-11 10:47:38,421 : INFO : worker thread finished; awaiting finish of 4 more threads\n",
      "2019-05-11 10:47:38,431 : INFO : worker thread finished; awaiting finish of 3 more threads\n",
      "2019-05-11 10:47:38,432 : INFO : worker thread finished; awaiting finish of 2 more threads\n",
      "2019-05-11 10:47:38,433 : INFO : worker thread finished; awaiting finish of 1 more threads\n",
      "2019-05-11 10:47:38,433 : INFO : worker thread finished; awaiting finish of 0 more threads\n",
      "2019-05-11 10:47:38,434 : INFO : EPOCH - 6 : training on 1106648 raw words (842727 effective words) took 0.5s, 1563415 effective words/s\n",
      "2019-05-11 10:47:38,961 : INFO : worker thread finished; awaiting finish of 9 more threads\n",
      "2019-05-11 10:47:38,974 : INFO : worker thread finished; awaiting finish of 8 more threads\n",
      "2019-05-11 10:47:38,976 : INFO : worker thread finished; awaiting finish of 7 more threads\n",
      "2019-05-11 10:47:38,979 : INFO : worker thread finished; awaiting finish of 6 more threads\n",
      "2019-05-11 10:47:38,983 : INFO : worker thread finished; awaiting finish of 5 more threads\n",
      "2019-05-11 10:47:38,985 : INFO : worker thread finished; awaiting finish of 4 more threads\n",
      "2019-05-11 10:47:38,988 : INFO : worker thread finished; awaiting finish of 3 more threads\n",
      "2019-05-11 10:47:38,996 : INFO : worker thread finished; awaiting finish of 2 more threads\n",
      "2019-05-11 10:47:38,999 : INFO : worker thread finished; awaiting finish of 1 more threads\n",
      "2019-05-11 10:47:39,001 : INFO : worker thread finished; awaiting finish of 0 more threads\n",
      "2019-05-11 10:47:39,002 : INFO : EPOCH - 7 : training on 1106648 raw words (842862 effective words) took 0.6s, 1512601 effective words/s\n",
      "2019-05-11 10:47:39,536 : INFO : worker thread finished; awaiting finish of 9 more threads\n",
      "2019-05-11 10:47:39,537 : INFO : worker thread finished; awaiting finish of 8 more threads\n",
      "2019-05-11 10:47:39,542 : INFO : worker thread finished; awaiting finish of 7 more threads\n",
      "2019-05-11 10:47:39,544 : INFO : worker thread finished; awaiting finish of 6 more threads\n",
      "2019-05-11 10:47:39,554 : INFO : worker thread finished; awaiting finish of 5 more threads\n",
      "2019-05-11 10:47:39,556 : INFO : worker thread finished; awaiting finish of 4 more threads\n",
      "2019-05-11 10:47:39,557 : INFO : worker thread finished; awaiting finish of 3 more threads\n",
      "2019-05-11 10:47:39,557 : INFO : worker thread finished; awaiting finish of 2 more threads\n",
      "2019-05-11 10:47:39,558 : INFO : worker thread finished; awaiting finish of 1 more threads\n",
      "2019-05-11 10:47:39,559 : INFO : worker thread finished; awaiting finish of 0 more threads\n",
      "2019-05-11 10:47:39,560 : INFO : EPOCH - 8 : training on 1106648 raw words (842498 effective words) took 0.5s, 1537847 effective words/s\n"
     ]
    },
    {
     "name": "stderr",
     "output_type": "stream",
     "text": [
      "2019-05-11 10:47:40,082 : INFO : worker thread finished; awaiting finish of 9 more threads\n",
      "2019-05-11 10:47:40,095 : INFO : worker thread finished; awaiting finish of 8 more threads\n",
      "2019-05-11 10:47:40,098 : INFO : worker thread finished; awaiting finish of 7 more threads\n",
      "2019-05-11 10:47:40,099 : INFO : worker thread finished; awaiting finish of 6 more threads\n",
      "2019-05-11 10:47:40,100 : INFO : worker thread finished; awaiting finish of 5 more threads\n",
      "2019-05-11 10:47:40,102 : INFO : worker thread finished; awaiting finish of 4 more threads\n",
      "2019-05-11 10:47:40,106 : INFO : worker thread finished; awaiting finish of 3 more threads\n",
      "2019-05-11 10:47:40,111 : INFO : worker thread finished; awaiting finish of 2 more threads\n",
      "2019-05-11 10:47:40,114 : INFO : worker thread finished; awaiting finish of 1 more threads\n",
      "2019-05-11 10:47:40,115 : INFO : worker thread finished; awaiting finish of 0 more threads\n",
      "2019-05-11 10:47:40,115 : INFO : EPOCH - 9 : training on 1106648 raw words (842869 effective words) took 0.5s, 1547081 effective words/s\n",
      "2019-05-11 10:47:40,641 : INFO : worker thread finished; awaiting finish of 9 more threads\n",
      "2019-05-11 10:47:40,654 : INFO : worker thread finished; awaiting finish of 8 more threads\n",
      "2019-05-11 10:47:40,654 : INFO : worker thread finished; awaiting finish of 7 more threads\n",
      "2019-05-11 10:47:40,655 : INFO : worker thread finished; awaiting finish of 6 more threads\n",
      "2019-05-11 10:47:40,664 : INFO : worker thread finished; awaiting finish of 5 more threads\n",
      "2019-05-11 10:47:40,665 : INFO : worker thread finished; awaiting finish of 4 more threads\n",
      "2019-05-11 10:47:40,667 : INFO : worker thread finished; awaiting finish of 3 more threads\n",
      "2019-05-11 10:47:40,668 : INFO : worker thread finished; awaiting finish of 2 more threads\n",
      "2019-05-11 10:47:40,669 : INFO : worker thread finished; awaiting finish of 1 more threads\n",
      "2019-05-11 10:47:40,672 : INFO : worker thread finished; awaiting finish of 0 more threads\n",
      "2019-05-11 10:47:40,672 : INFO : EPOCH - 10 : training on 1106648 raw words (842307 effective words) took 0.5s, 1540314 effective words/s\n",
      "2019-05-11 10:47:41,188 : INFO : worker thread finished; awaiting finish of 9 more threads\n",
      "2019-05-11 10:47:41,198 : INFO : worker thread finished; awaiting finish of 8 more threads\n",
      "2019-05-11 10:47:41,199 : INFO : worker thread finished; awaiting finish of 7 more threads\n",
      "2019-05-11 10:47:41,200 : INFO : worker thread finished; awaiting finish of 6 more threads\n",
      "2019-05-11 10:47:41,201 : INFO : worker thread finished; awaiting finish of 5 more threads\n",
      "2019-05-11 10:47:41,207 : INFO : worker thread finished; awaiting finish of 4 more threads\n",
      "2019-05-11 10:47:41,215 : INFO : worker thread finished; awaiting finish of 3 more threads\n",
      "2019-05-11 10:47:41,216 : INFO : worker thread finished; awaiting finish of 2 more threads\n",
      "2019-05-11 10:47:41,218 : INFO : worker thread finished; awaiting finish of 1 more threads\n",
      "2019-05-11 10:47:41,219 : INFO : worker thread finished; awaiting finish of 0 more threads\n",
      "2019-05-11 10:47:41,220 : INFO : EPOCH - 11 : training on 1106648 raw words (842749 effective words) took 0.5s, 1571895 effective words/s\n",
      "2019-05-11 10:47:41,740 : INFO : worker thread finished; awaiting finish of 9 more threads\n",
      "2019-05-11 10:47:41,745 : INFO : worker thread finished; awaiting finish of 8 more threads\n",
      "2019-05-11 10:47:41,746 : INFO : worker thread finished; awaiting finish of 7 more threads\n",
      "2019-05-11 10:47:41,746 : INFO : worker thread finished; awaiting finish of 6 more threads\n",
      "2019-05-11 10:47:41,755 : INFO : worker thread finished; awaiting finish of 5 more threads\n",
      "2019-05-11 10:47:41,756 : INFO : worker thread finished; awaiting finish of 4 more threads\n",
      "2019-05-11 10:47:41,757 : INFO : worker thread finished; awaiting finish of 3 more threads\n",
      "2019-05-11 10:47:41,763 : INFO : worker thread finished; awaiting finish of 2 more threads\n",
      "2019-05-11 10:47:41,765 : INFO : worker thread finished; awaiting finish of 1 more threads\n",
      "2019-05-11 10:47:41,766 : INFO : worker thread finished; awaiting finish of 0 more threads\n",
      "2019-05-11 10:47:41,766 : INFO : EPOCH - 12 : training on 1106648 raw words (842622 effective words) took 0.5s, 1569217 effective words/s\n",
      "2019-05-11 10:47:42,287 : INFO : worker thread finished; awaiting finish of 9 more threads\n",
      "2019-05-11 10:47:42,295 : INFO : worker thread finished; awaiting finish of 8 more threads\n",
      "2019-05-11 10:47:42,295 : INFO : worker thread finished; awaiting finish of 7 more threads\n",
      "2019-05-11 10:47:42,296 : INFO : worker thread finished; awaiting finish of 6 more threads\n",
      "2019-05-11 10:47:42,297 : INFO : worker thread finished; awaiting finish of 5 more threads\n",
      "2019-05-11 10:47:42,304 : INFO : worker thread finished; awaiting finish of 4 more threads\n",
      "2019-05-11 10:47:42,306 : INFO : worker thread finished; awaiting finish of 3 more threads\n",
      "2019-05-11 10:47:42,310 : INFO : worker thread finished; awaiting finish of 2 more threads\n",
      "2019-05-11 10:47:42,314 : INFO : worker thread finished; awaiting finish of 1 more threads\n",
      "2019-05-11 10:47:42,315 : INFO : worker thread finished; awaiting finish of 0 more threads\n",
      "2019-05-11 10:47:42,315 : INFO : EPOCH - 13 : training on 1106648 raw words (843404 effective words) took 0.5s, 1561115 effective words/s\n",
      "2019-05-11 10:47:42,843 : INFO : worker thread finished; awaiting finish of 9 more threads\n",
      "2019-05-11 10:47:42,849 : INFO : worker thread finished; awaiting finish of 8 more threads\n",
      "2019-05-11 10:47:42,852 : INFO : worker thread finished; awaiting finish of 7 more threads\n",
      "2019-05-11 10:47:42,855 : INFO : worker thread finished; awaiting finish of 6 more threads\n",
      "2019-05-11 10:47:42,856 : INFO : worker thread finished; awaiting finish of 5 more threads\n",
      "2019-05-11 10:47:42,860 : INFO : worker thread finished; awaiting finish of 4 more threads\n",
      "2019-05-11 10:47:42,861 : INFO : worker thread finished; awaiting finish of 3 more threads\n",
      "2019-05-11 10:47:42,864 : INFO : worker thread finished; awaiting finish of 2 more threads\n",
      "2019-05-11 10:47:42,865 : INFO : worker thread finished; awaiting finish of 1 more threads\n",
      "2019-05-11 10:47:42,869 : INFO : worker thread finished; awaiting finish of 0 more threads\n",
      "2019-05-11 10:47:42,870 : INFO : EPOCH - 14 : training on 1106648 raw words (842700 effective words) took 0.5s, 1547519 effective words/s\n",
      "2019-05-11 10:47:43,381 : INFO : worker thread finished; awaiting finish of 9 more threads\n",
      "2019-05-11 10:47:43,385 : INFO : worker thread finished; awaiting finish of 8 more threads\n",
      "2019-05-11 10:47:43,386 : INFO : worker thread finished; awaiting finish of 7 more threads\n",
      "2019-05-11 10:47:43,386 : INFO : worker thread finished; awaiting finish of 6 more threads\n",
      "2019-05-11 10:47:43,391 : INFO : worker thread finished; awaiting finish of 5 more threads\n",
      "2019-05-11 10:47:43,392 : INFO : worker thread finished; awaiting finish of 4 more threads\n",
      "2019-05-11 10:47:43,393 : INFO : worker thread finished; awaiting finish of 3 more threads\n",
      "2019-05-11 10:47:43,400 : INFO : worker thread finished; awaiting finish of 2 more threads\n",
      "2019-05-11 10:47:43,401 : INFO : worker thread finished; awaiting finish of 1 more threads\n",
      "2019-05-11 10:47:43,403 : INFO : worker thread finished; awaiting finish of 0 more threads\n",
      "2019-05-11 10:47:43,403 : INFO : EPOCH - 15 : training on 1106648 raw words (843174 effective words) took 0.5s, 1614062 effective words/s\n",
      "2019-05-11 10:47:43,921 : INFO : worker thread finished; awaiting finish of 9 more threads\n",
      "2019-05-11 10:47:43,932 : INFO : worker thread finished; awaiting finish of 8 more threads\n",
      "2019-05-11 10:47:43,932 : INFO : worker thread finished; awaiting finish of 7 more threads\n",
      "2019-05-11 10:47:43,933 : INFO : worker thread finished; awaiting finish of 6 more threads\n",
      "2019-05-11 10:47:43,935 : INFO : worker thread finished; awaiting finish of 5 more threads\n",
      "2019-05-11 10:47:43,943 : INFO : worker thread finished; awaiting finish of 4 more threads\n",
      "2019-05-11 10:47:43,947 : INFO : worker thread finished; awaiting finish of 3 more threads\n",
      "2019-05-11 10:47:43,951 : INFO : worker thread finished; awaiting finish of 2 more threads\n",
      "2019-05-11 10:47:43,952 : INFO : worker thread finished; awaiting finish of 1 more threads\n",
      "2019-05-11 10:47:43,952 : INFO : worker thread finished; awaiting finish of 0 more threads\n"
     ]
    },
    {
     "name": "stderr",
     "output_type": "stream",
     "text": [
      "2019-05-11 10:47:43,953 : INFO : EPOCH - 16 : training on 1106648 raw words (843035 effective words) took 0.5s, 1561377 effective words/s\n",
      "2019-05-11 10:47:44,482 : INFO : worker thread finished; awaiting finish of 9 more threads\n",
      "2019-05-11 10:47:44,488 : INFO : worker thread finished; awaiting finish of 8 more threads\n",
      "2019-05-11 10:47:44,490 : INFO : worker thread finished; awaiting finish of 7 more threads\n",
      "2019-05-11 10:47:44,491 : INFO : worker thread finished; awaiting finish of 6 more threads\n",
      "2019-05-11 10:47:44,499 : INFO : worker thread finished; awaiting finish of 5 more threads\n",
      "2019-05-11 10:47:44,500 : INFO : worker thread finished; awaiting finish of 4 more threads\n",
      "2019-05-11 10:47:44,505 : INFO : worker thread finished; awaiting finish of 3 more threads\n",
      "2019-05-11 10:47:44,506 : INFO : worker thread finished; awaiting finish of 2 more threads\n",
      "2019-05-11 10:47:44,507 : INFO : worker thread finished; awaiting finish of 1 more threads\n",
      "2019-05-11 10:47:44,508 : INFO : worker thread finished; awaiting finish of 0 more threads\n",
      "2019-05-11 10:47:44,509 : INFO : EPOCH - 17 : training on 1106648 raw words (842689 effective words) took 0.5s, 1546092 effective words/s\n",
      "2019-05-11 10:47:45,021 : INFO : worker thread finished; awaiting finish of 9 more threads\n",
      "2019-05-11 10:47:45,034 : INFO : worker thread finished; awaiting finish of 8 more threads\n",
      "2019-05-11 10:47:45,035 : INFO : worker thread finished; awaiting finish of 7 more threads\n",
      "2019-05-11 10:47:45,039 : INFO : worker thread finished; awaiting finish of 6 more threads\n",
      "2019-05-11 10:47:45,040 : INFO : worker thread finished; awaiting finish of 5 more threads\n",
      "2019-05-11 10:47:45,044 : INFO : worker thread finished; awaiting finish of 4 more threads\n",
      "2019-05-11 10:47:45,045 : INFO : worker thread finished; awaiting finish of 3 more threads\n",
      "2019-05-11 10:47:45,049 : INFO : worker thread finished; awaiting finish of 2 more threads\n",
      "2019-05-11 10:47:45,051 : INFO : worker thread finished; awaiting finish of 1 more threads\n",
      "2019-05-11 10:47:45,053 : INFO : worker thread finished; awaiting finish of 0 more threads\n",
      "2019-05-11 10:47:45,054 : INFO : EPOCH - 18 : training on 1106648 raw words (842744 effective words) took 0.5s, 1575501 effective words/s\n",
      "2019-05-11 10:47:45,579 : INFO : worker thread finished; awaiting finish of 9 more threads\n",
      "2019-05-11 10:47:45,588 : INFO : worker thread finished; awaiting finish of 8 more threads\n",
      "2019-05-11 10:47:45,589 : INFO : worker thread finished; awaiting finish of 7 more threads\n",
      "2019-05-11 10:47:45,590 : INFO : worker thread finished; awaiting finish of 6 more threads\n",
      "2019-05-11 10:47:45,597 : INFO : worker thread finished; awaiting finish of 5 more threads\n",
      "2019-05-11 10:47:45,598 : INFO : worker thread finished; awaiting finish of 4 more threads\n",
      "2019-05-11 10:47:45,600 : INFO : worker thread finished; awaiting finish of 3 more threads\n",
      "2019-05-11 10:47:45,607 : INFO : worker thread finished; awaiting finish of 2 more threads\n",
      "2019-05-11 10:47:45,607 : INFO : worker thread finished; awaiting finish of 1 more threads\n",
      "2019-05-11 10:47:45,609 : INFO : worker thread finished; awaiting finish of 0 more threads\n",
      "2019-05-11 10:47:45,610 : INFO : EPOCH - 19 : training on 1106648 raw words (842938 effective words) took 0.5s, 1547200 effective words/s\n",
      "2019-05-11 10:47:46,131 : INFO : worker thread finished; awaiting finish of 9 more threads\n",
      "2019-05-11 10:47:46,138 : INFO : worker thread finished; awaiting finish of 8 more threads\n",
      "2019-05-11 10:47:46,139 : INFO : worker thread finished; awaiting finish of 7 more threads\n",
      "2019-05-11 10:47:46,140 : INFO : worker thread finished; awaiting finish of 6 more threads\n",
      "2019-05-11 10:47:46,140 : INFO : worker thread finished; awaiting finish of 5 more threads\n",
      "2019-05-11 10:47:46,142 : INFO : worker thread finished; awaiting finish of 4 more threads\n",
      "2019-05-11 10:47:46,149 : INFO : worker thread finished; awaiting finish of 3 more threads\n",
      "2019-05-11 10:47:46,151 : INFO : worker thread finished; awaiting finish of 2 more threads\n",
      "2019-05-11 10:47:46,153 : INFO : worker thread finished; awaiting finish of 1 more threads\n",
      "2019-05-11 10:47:46,154 : INFO : worker thread finished; awaiting finish of 0 more threads\n",
      "2019-05-11 10:47:46,154 : INFO : EPOCH - 20 : training on 1106648 raw words (843170 effective words) took 0.5s, 1577706 effective words/s\n",
      "2019-05-11 10:47:46,687 : INFO : worker thread finished; awaiting finish of 9 more threads\n",
      "2019-05-11 10:47:46,697 : INFO : worker thread finished; awaiting finish of 8 more threads\n",
      "2019-05-11 10:47:46,699 : INFO : worker thread finished; awaiting finish of 7 more threads\n",
      "2019-05-11 10:47:46,700 : INFO : worker thread finished; awaiting finish of 6 more threads\n",
      "2019-05-11 10:47:46,701 : INFO : worker thread finished; awaiting finish of 5 more threads\n",
      "2019-05-11 10:47:46,703 : INFO : worker thread finished; awaiting finish of 4 more threads\n",
      "2019-05-11 10:47:46,710 : INFO : worker thread finished; awaiting finish of 3 more threads\n",
      "2019-05-11 10:47:46,711 : INFO : worker thread finished; awaiting finish of 2 more threads\n",
      "2019-05-11 10:47:46,715 : INFO : worker thread finished; awaiting finish of 1 more threads\n",
      "2019-05-11 10:47:46,718 : INFO : worker thread finished; awaiting finish of 0 more threads\n",
      "2019-05-11 10:47:46,718 : INFO : EPOCH - 21 : training on 1106648 raw words (843129 effective words) took 0.6s, 1522428 effective words/s\n",
      "2019-05-11 10:47:47,237 : INFO : worker thread finished; awaiting finish of 9 more threads\n",
      "2019-05-11 10:47:47,246 : INFO : worker thread finished; awaiting finish of 8 more threads\n",
      "2019-05-11 10:47:47,247 : INFO : worker thread finished; awaiting finish of 7 more threads\n",
      "2019-05-11 10:47:47,248 : INFO : worker thread finished; awaiting finish of 6 more threads\n",
      "2019-05-11 10:47:47,250 : INFO : worker thread finished; awaiting finish of 5 more threads\n",
      "2019-05-11 10:47:47,251 : INFO : worker thread finished; awaiting finish of 4 more threads\n",
      "2019-05-11 10:47:47,254 : INFO : worker thread finished; awaiting finish of 3 more threads\n",
      "2019-05-11 10:47:47,260 : INFO : worker thread finished; awaiting finish of 2 more threads\n",
      "2019-05-11 10:47:47,261 : INFO : worker thread finished; awaiting finish of 1 more threads\n",
      "2019-05-11 10:47:47,262 : INFO : worker thread finished; awaiting finish of 0 more threads\n",
      "2019-05-11 10:47:47,263 : INFO : EPOCH - 22 : training on 1106648 raw words (842672 effective words) took 0.5s, 1574807 effective words/s\n",
      "2019-05-11 10:47:47,802 : INFO : worker thread finished; awaiting finish of 9 more threads\n",
      "2019-05-11 10:47:47,811 : INFO : worker thread finished; awaiting finish of 8 more threads\n",
      "2019-05-11 10:47:47,812 : INFO : worker thread finished; awaiting finish of 7 more threads\n",
      "2019-05-11 10:47:47,812 : INFO : worker thread finished; awaiting finish of 6 more threads\n",
      "2019-05-11 10:47:47,813 : INFO : worker thread finished; awaiting finish of 5 more threads\n",
      "2019-05-11 10:47:47,814 : INFO : worker thread finished; awaiting finish of 4 more threads\n",
      "2019-05-11 10:47:47,823 : INFO : worker thread finished; awaiting finish of 3 more threads\n",
      "2019-05-11 10:47:47,824 : INFO : worker thread finished; awaiting finish of 2 more threads\n",
      "2019-05-11 10:47:47,825 : INFO : worker thread finished; awaiting finish of 1 more threads\n",
      "2019-05-11 10:47:47,825 : INFO : worker thread finished; awaiting finish of 0 more threads\n",
      "2019-05-11 10:47:47,826 : INFO : EPOCH - 23 : training on 1106648 raw words (842731 effective words) took 0.6s, 1521883 effective words/s\n",
      "2019-05-11 10:47:48,347 : INFO : worker thread finished; awaiting finish of 9 more threads\n",
      "2019-05-11 10:47:48,356 : INFO : worker thread finished; awaiting finish of 8 more threads\n",
      "2019-05-11 10:47:48,359 : INFO : worker thread finished; awaiting finish of 7 more threads\n",
      "2019-05-11 10:47:48,361 : INFO : worker thread finished; awaiting finish of 6 more threads\n",
      "2019-05-11 10:47:48,362 : INFO : worker thread finished; awaiting finish of 5 more threads\n",
      "2019-05-11 10:47:48,366 : INFO : worker thread finished; awaiting finish of 4 more threads\n",
      "2019-05-11 10:47:48,371 : INFO : worker thread finished; awaiting finish of 3 more threads\n",
      "2019-05-11 10:47:48,374 : INFO : worker thread finished; awaiting finish of 2 more threads\n"
     ]
    },
    {
     "name": "stderr",
     "output_type": "stream",
     "text": [
      "2019-05-11 10:47:48,376 : INFO : worker thread finished; awaiting finish of 1 more threads\n",
      "2019-05-11 10:47:48,379 : INFO : worker thread finished; awaiting finish of 0 more threads\n",
      "2019-05-11 10:47:48,380 : INFO : EPOCH - 24 : training on 1106648 raw words (842874 effective words) took 0.5s, 1552448 effective words/s\n",
      "2019-05-11 10:47:48,900 : INFO : worker thread finished; awaiting finish of 9 more threads\n",
      "2019-05-11 10:47:48,906 : INFO : worker thread finished; awaiting finish of 8 more threads\n",
      "2019-05-11 10:47:48,907 : INFO : worker thread finished; awaiting finish of 7 more threads\n",
      "2019-05-11 10:47:48,909 : INFO : worker thread finished; awaiting finish of 6 more threads\n",
      "2019-05-11 10:47:48,916 : INFO : worker thread finished; awaiting finish of 5 more threads\n",
      "2019-05-11 10:47:48,918 : INFO : worker thread finished; awaiting finish of 4 more threads\n",
      "2019-05-11 10:47:48,921 : INFO : worker thread finished; awaiting finish of 3 more threads\n",
      "2019-05-11 10:47:48,923 : INFO : worker thread finished; awaiting finish of 2 more threads\n",
      "2019-05-11 10:47:48,924 : INFO : worker thread finished; awaiting finish of 1 more threads\n",
      "2019-05-11 10:47:48,928 : INFO : worker thread finished; awaiting finish of 0 more threads\n",
      "2019-05-11 10:47:48,928 : INFO : EPOCH - 25 : training on 1106648 raw words (842491 effective words) took 0.5s, 1567408 effective words/s\n",
      "2019-05-11 10:47:49,437 : INFO : worker thread finished; awaiting finish of 9 more threads\n",
      "2019-05-11 10:47:49,451 : INFO : worker thread finished; awaiting finish of 8 more threads\n",
      "2019-05-11 10:47:49,453 : INFO : worker thread finished; awaiting finish of 7 more threads\n",
      "2019-05-11 10:47:49,453 : INFO : worker thread finished; awaiting finish of 6 more threads\n",
      "2019-05-11 10:47:49,462 : INFO : worker thread finished; awaiting finish of 5 more threads\n",
      "2019-05-11 10:47:49,463 : INFO : worker thread finished; awaiting finish of 4 more threads\n",
      "2019-05-11 10:47:49,464 : INFO : worker thread finished; awaiting finish of 3 more threads\n",
      "2019-05-11 10:47:49,471 : INFO : worker thread finished; awaiting finish of 2 more threads\n",
      "2019-05-11 10:47:49,473 : INFO : worker thread finished; awaiting finish of 1 more threads\n",
      "2019-05-11 10:47:49,474 : INFO : worker thread finished; awaiting finish of 0 more threads\n",
      "2019-05-11 10:47:49,474 : INFO : EPOCH - 26 : training on 1106648 raw words (842784 effective words) took 0.5s, 1570804 effective words/s\n",
      "2019-05-11 10:47:49,982 : INFO : worker thread finished; awaiting finish of 9 more threads\n",
      "2019-05-11 10:47:49,989 : INFO : worker thread finished; awaiting finish of 8 more threads\n",
      "2019-05-11 10:47:49,990 : INFO : worker thread finished; awaiting finish of 7 more threads\n",
      "2019-05-11 10:47:49,997 : INFO : worker thread finished; awaiting finish of 6 more threads\n",
      "2019-05-11 10:47:49,998 : INFO : worker thread finished; awaiting finish of 5 more threads\n",
      "2019-05-11 10:47:50,002 : INFO : worker thread finished; awaiting finish of 4 more threads\n",
      "2019-05-11 10:47:50,003 : INFO : worker thread finished; awaiting finish of 3 more threads\n",
      "2019-05-11 10:47:50,008 : INFO : worker thread finished; awaiting finish of 2 more threads\n",
      "2019-05-11 10:47:50,009 : INFO : worker thread finished; awaiting finish of 1 more threads\n",
      "2019-05-11 10:47:50,009 : INFO : worker thread finished; awaiting finish of 0 more threads\n",
      "2019-05-11 10:47:50,010 : INFO : EPOCH - 27 : training on 1106648 raw words (842348 effective words) took 0.5s, 1604387 effective words/s\n",
      "2019-05-11 10:47:50,538 : INFO : worker thread finished; awaiting finish of 9 more threads\n",
      "2019-05-11 10:47:50,547 : INFO : worker thread finished; awaiting finish of 8 more threads\n",
      "2019-05-11 10:47:50,547 : INFO : worker thread finished; awaiting finish of 7 more threads\n",
      "2019-05-11 10:47:50,549 : INFO : worker thread finished; awaiting finish of 6 more threads\n",
      "2019-05-11 10:47:50,554 : INFO : worker thread finished; awaiting finish of 5 more threads\n",
      "2019-05-11 10:47:50,556 : INFO : worker thread finished; awaiting finish of 4 more threads\n",
      "2019-05-11 10:47:50,564 : INFO : worker thread finished; awaiting finish of 3 more threads\n",
      "2019-05-11 10:47:50,567 : INFO : worker thread finished; awaiting finish of 2 more threads\n",
      "2019-05-11 10:47:50,568 : INFO : worker thread finished; awaiting finish of 1 more threads\n",
      "2019-05-11 10:47:50,569 : INFO : worker thread finished; awaiting finish of 0 more threads\n",
      "2019-05-11 10:47:50,569 : INFO : EPOCH - 28 : training on 1106648 raw words (842383 effective words) took 0.5s, 1532958 effective words/s\n",
      "2019-05-11 10:47:51,102 : INFO : worker thread finished; awaiting finish of 9 more threads\n",
      "2019-05-11 10:47:51,104 : INFO : worker thread finished; awaiting finish of 8 more threads\n",
      "2019-05-11 10:47:51,109 : INFO : worker thread finished; awaiting finish of 7 more threads\n",
      "2019-05-11 10:47:51,111 : INFO : worker thread finished; awaiting finish of 6 more threads\n",
      "2019-05-11 10:47:51,112 : INFO : worker thread finished; awaiting finish of 5 more threads\n",
      "2019-05-11 10:47:51,115 : INFO : worker thread finished; awaiting finish of 4 more threads\n",
      "2019-05-11 10:47:51,124 : INFO : worker thread finished; awaiting finish of 3 more threads\n",
      "2019-05-11 10:47:51,126 : INFO : worker thread finished; awaiting finish of 2 more threads\n",
      "2019-05-11 10:47:51,129 : INFO : worker thread finished; awaiting finish of 1 more threads\n",
      "2019-05-11 10:47:51,130 : INFO : worker thread finished; awaiting finish of 0 more threads\n",
      "2019-05-11 10:47:51,131 : INFO : EPOCH - 29 : training on 1106648 raw words (842954 effective words) took 0.5s, 1533049 effective words/s\n",
      "2019-05-11 10:47:51,685 : INFO : worker thread finished; awaiting finish of 9 more threads\n",
      "2019-05-11 10:47:51,690 : INFO : worker thread finished; awaiting finish of 8 more threads\n",
      "2019-05-11 10:47:51,693 : INFO : worker thread finished; awaiting finish of 7 more threads\n",
      "2019-05-11 10:47:51,694 : INFO : worker thread finished; awaiting finish of 6 more threads\n",
      "2019-05-11 10:47:51,702 : INFO : worker thread finished; awaiting finish of 5 more threads\n",
      "2019-05-11 10:47:51,706 : INFO : worker thread finished; awaiting finish of 4 more threads\n",
      "2019-05-11 10:47:51,707 : INFO : worker thread finished; awaiting finish of 3 more threads\n",
      "2019-05-11 10:47:51,710 : INFO : worker thread finished; awaiting finish of 2 more threads\n",
      "2019-05-11 10:47:51,711 : INFO : worker thread finished; awaiting finish of 1 more threads\n",
      "2019-05-11 10:47:51,714 : INFO : worker thread finished; awaiting finish of 0 more threads\n",
      "2019-05-11 10:47:51,715 : INFO : EPOCH - 30 : training on 1106648 raw words (842751 effective words) took 0.6s, 1467461 effective words/s\n",
      "2019-05-11 10:47:51,715 : INFO : training on a 33199440 raw words (25283973 effective words) took 16.7s, 1515441 effective words/s\n"
     ]
    },
    {
     "data": {
      "text/plain": [
       "(25283973, 33199440)"
      ]
     },
     "execution_count": 76,
     "metadata": {},
     "output_type": "execute_result"
    }
   ],
   "source": [
    "model = gensim.models.Word2Vec (documents, size=150, window=10, min_count=2, workers=10)\n",
    "\n",
    "model.train(documents,total_examples=model.corpus_count,epochs=30)"
   ]
  },
  {
   "cell_type": "code",
   "execution_count": 78,
   "metadata": {},
   "outputs": [
    {
     "name": "stderr",
     "output_type": "stream",
     "text": [
      "2019-05-11 10:47:51,980 : INFO : precomputing L2-norms of word weight vectors\n"
     ]
    },
    {
     "data": {
      "text/plain": [
       "[('pretend', 0.45604407787323),\n",
       " ('kill', 0.44987165927886963),\n",
       " ('prove', 0.4428001940250397),\n",
       " ('die', 0.4357263445854187),\n",
       " ('save', 0.41871321201324463),\n",
       " ('fall', 0.4033040404319763),\n",
       " ('manage', 0.39449357986450195),\n",
       " ('control', 0.3870224952697754),\n",
       " ('bring', 0.3848644495010376),\n",
       " ('persuade', 0.38447439670562744)]"
      ]
     },
     "execution_count": 78,
     "metadata": {},
     "output_type": "execute_result"
    }
   ],
   "source": [
    "model.wv.most_similar('fight')"
   ]
  },
  {
   "cell_type": "code",
   "execution_count": 79,
   "metadata": {},
   "outputs": [
    {
     "data": {
      "text/plain": [
       "[('he', 0.7368301749229431),\n",
       " ('him', 0.4884463846683502),\n",
       " ('ron', 0.4349883794784546),\n",
       " ('cho', 0.41616708040237427),\n",
       " ('she', 0.4061174988746643),\n",
       " ('snape', 0.40379226207733154),\n",
       " ('it', 0.3875499367713928),\n",
       " ('moody', 0.3778136968612671),\n",
       " ('they', 0.35764485597610474),\n",
       " ('neville', 0.3487786054611206)]"
      ]
     },
     "execution_count": 79,
     "metadata": {},
     "output_type": "execute_result"
    }
   ],
   "source": [
    "word1 = \"harry\"\n",
    "model.wv.most_similar(positive=word1)"
   ]
  },
  {
   "cell_type": "code",
   "execution_count": 80,
   "metadata": {},
   "outputs": [
    {
     "data": {
      "text/plain": [
       "[('wormtail', 0.4912186861038208),\n",
       " ('he', 0.4725345969200134),\n",
       " ('voldemorts', 0.4437003433704376),\n",
       " ('bellatrix', 0.4435831308364868),\n",
       " ('voldemortʹs', 0.4284347593784332),\n",
       " ('nagini', 0.4194006323814392),\n",
       " ('dumbledore', 0.4114311933517456),\n",
       " ('grindelwald', 0.4068736135959625),\n",
       " ('prophecy', 0.40138518810272217),\n",
       " ('dark', 0.40110495686531067)]"
      ]
     },
     "execution_count": 80,
     "metadata": {},
     "output_type": "execute_result"
    }
   ],
   "source": [
    "model.wv.most_similar('voldemort')"
   ]
  },
  {
   "cell_type": "code",
   "execution_count": 81,
   "metadata": {},
   "outputs": [
    {
     "name": "stderr",
     "output_type": "stream",
     "text": [
      "H:\\Anaconda3\\envs\\main\\lib\\site-packages\\gensim\\models\\keyedvectors.py:730: FutureWarning: arrays to stack must be passed as a \"sequence\" type such as list or tuple. Support for non-sequence iterables such as generators is deprecated as of NumPy 1.16 and will raise an error in the future.\n",
      "  vectors = vstack(self.word_vec(word, use_norm=True) for word in used_words).astype(REAL)\n"
     ]
    },
    {
     "data": {
      "text/plain": [
       "'voldemort'"
      ]
     },
     "execution_count": 81,
     "metadata": {},
     "output_type": "execute_result"
    }
   ],
   "source": [
    "model.wv.doesnt_match([\"harry\",'ron','hermione','voldemort'])"
   ]
  },
  {
   "cell_type": "code",
   "execution_count": 82,
   "metadata": {},
   "outputs": [
    {
     "data": {
      "text/plain": [
       "0.43498837930236023"
      ]
     },
     "execution_count": 82,
     "metadata": {},
     "output_type": "execute_result"
    }
   ],
   "source": [
    "model.wv.similarity(w1=\"harry\",w2='ron')"
   ]
  },
  {
   "cell_type": "code",
   "execution_count": 83,
   "metadata": {},
   "outputs": [
    {
     "data": {
      "text/plain": [
       "0.34240577425813157"
      ]
     },
     "execution_count": 83,
     "metadata": {},
     "output_type": "execute_result"
    }
   ],
   "source": [
    "model.wv.similarity(w1=\"harry\",w2='hermione')"
   ]
  },
  {
   "cell_type": "code",
   "execution_count": 84,
   "metadata": {},
   "outputs": [
    {
     "data": {
      "text/plain": [
       "0.29283013700669136"
      ]
     },
     "execution_count": 84,
     "metadata": {},
     "output_type": "execute_result"
    }
   ],
   "source": [
    "model.wv.similarity(w1=\"harry\",w2='ginny')"
   ]
  },
  {
   "cell_type": "code",
   "execution_count": 85,
   "metadata": {},
   "outputs": [
    {
     "data": {
      "text/plain": [
       "0.27968474959538636"
      ]
     },
     "execution_count": 85,
     "metadata": {},
     "output_type": "execute_result"
    }
   ],
   "source": [
    "model.wv.similarity(w1=\"ron\",w2='hermione')"
   ]
  },
  {
   "cell_type": "code",
   "execution_count": 86,
   "metadata": {},
   "outputs": [
    {
     "data": {
      "text/plain": [
       "0.40014501038830586"
      ]
     },
     "execution_count": 86,
     "metadata": {},
     "output_type": "execute_result"
    }
   ],
   "source": [
    "model.wv.similarity(w1=\"ron\",w2='ginny')"
   ]
  },
  {
   "cell_type": "code",
   "execution_count": 87,
   "metadata": {},
   "outputs": [
    {
     "data": {
      "text/plain": [
       "'voldemort'"
      ]
     },
     "execution_count": 87,
     "metadata": {},
     "output_type": "execute_result"
    }
   ],
   "source": [
    "model.wv.doesnt_match([\"harry\",'ron','james','voldemort'])"
   ]
  },
  {
   "cell_type": "markdown",
   "metadata": {},
   "source": [
    "## data visualization in PCA"
   ]
  },
  {
   "cell_type": "code",
   "execution_count": 88,
   "metadata": {},
   "outputs": [
    {
     "data": {
      "text/plain": [
       "15865"
      ]
     },
     "execution_count": 88,
     "metadata": {},
     "output_type": "execute_result"
    }
   ],
   "source": [
    "len(model.wv.vocab)"
   ]
  },
  {
   "cell_type": "code",
   "execution_count": 89,
   "metadata": {},
   "outputs": [],
   "source": [
    "x_item=['harry','ron','hermione','wand','car','train','water']\n",
    "x_list=model.wv['harry','ron','hermione','wand','car','train','water']"
   ]
  },
  {
   "cell_type": "code",
   "execution_count": 90,
   "metadata": {},
   "outputs": [],
   "source": [
    "from sklearn.decomposition import PCA\n",
    "pca = PCA(n_components=2)\n",
    "result = pca.fit_transform(x_list)"
   ]
  },
  {
   "cell_type": "code",
   "execution_count": 91,
   "metadata": {},
   "outputs": [
    {
     "data": {
      "image/png": "[encoded data removed]",
      "text/plain": [
       "<Figure size 1440x864 with 1 Axes>"
      ]
     },
     "metadata": {},
     "output_type": "display_data"
    }
   ],
   "source": [
    "# create a scatter plot of the projection\n",
    "from matplotlib import pyplot as plt\n",
    "plt.figure(figsize=(20, 12))\n",
    "plt.rcParams.update({'font.size': 22})\n",
    "\n",
    "plt.scatter(result[:, 0], result[:, 1])\n",
    "for i, word in enumerate(x_item):\n",
    "    plt.annotate(word, xy=(result[i, 0], result[i, 1]))\n",
    "plt.savefig(\"hp_pcan.png\")"
   ]
  }
 ],
 "metadata": {
  "kernelspec": {
   "display_name": "Python 3",
   "language": "python",
   "name": "python3"
  },
  "language_info": {
   "codemirror_mode": {
    "name": "ipython",
    "version": 3
   },
   "file_extension": ".py",
   "mimetype": "text/x-python",
   "name": "python",
   "nbconvert_exporter": "python",
   "pygments_lexer": "ipython3",
   "version": "3.6.8"
  }
 },
 "nbformat": 4,
 "nbformat_minor": 2
}
